{
 "cells": [
  {
   "cell_type": "markdown",
   "metadata": {},
   "source": [
    "# Sammeln von Luftqualitätsdaten mit Python"
   ]
  },
  {
   "cell_type": "markdown",
   "metadata": {},
   "source": [
    "## Luftschadstoffe, die vom bayrischen Landesamt für Umwelt überwacht werden"
   ]
  },
  {
   "cell_type": "markdown",
   "metadata": {},
   "source": [
    "### Primäre Luftschadstoffe"
   ]
  },
  {
   "cell_type": "markdown",
   "metadata": {},
   "source": [
    "werden direkt von Erzeugern (z.B. Autos) ausgestoßen\n",
    "\n",
    "**CO**: Benzin + O2 ->  CO + H2O (bei Unvollständiger Verbrennung von Treibstoffen) oder CO2 + H2O (bei vollständiger Verbrennung)\n",
    "Katalysatoren wandeln CO zu CO2\n",
    "\n",
    "**NO**: NO2 + O2 + Hitze -> 2NO\n",
    "\n",
    "**SO2**: S + O2 -> SO2 (wird vor allem von Fabriken ausgestoßen, entsteht bei der Verbrennung von Öl oder Kohle)"
   ]
  },
  {
   "cell_type": "markdown",
   "metadata": {},
   "source": [
    "### Sekundäre Luftschadstoffe"
   ]
  },
  {
   "cell_type": "markdown",
   "metadata": {},
   "source": [
    "**Ozon**: hilfreich in der Stratosphäre (absorbiert UV Strahlung), aber ein Luftschadstoff in der Troposphere\n",
    "\n",
    "NO2 + O2 + Hitze -> 2NO (im Motor)\n",
    "\n",
    "2NO + O2 -> 2NO2 (sekundärer Luftschadstoff)\n",
    "\n",
    "NO2 + Sonnenlicht -> NO + O (daher vor allem im Sommer (nachtmittags) ein Problem)\n",
    "\n",
    "O + O2 -> O3\n",
    "\n",
    "O3 + Kohlenwasserstoffe (CH4, unverbranntes Benzin, Lösungsmittel) -> SMOG\n",
    "\n",
    "**NO2**: Reizgas mit stechend-stickigem Geruch"
   ]
  },
  {
   "cell_type": "markdown",
   "metadata": {},
   "source": [
    "### Primär und Sekundär "
   ]
  },
  {
   "cell_type": "markdown",
   "metadata": {},
   "source": [
    "**Feinstaub**: (je nach Größe PM10 (< 10um), PM2.5 (< 2.5 um) oder UFP (< 1um)): in Städten hauptsächlich durch Straßenverkehr verursacht, wird direkt von Motoren ausgestoßen, entsteht aber auch durch Abrieb der Reifen beim Bremsen etc. und durch chemische Reaktionen von Vorläufergasen (NOx, SO2, NH3, VOCs). Um so kleiner die Partikel um so gefährlicher für die Gesundheit. "
   ]
  },
  {
   "cell_type": "markdown",
   "metadata": {},
   "source": [
    "## Bedenkliche Schadstoffkonzentrationen"
   ]
  },
  {
   "cell_type": "markdown",
   "metadata": {},
   "source": [
    "Bewertung der Luftqualität:\n",
    "\n",
    "http://www.lfu.bayern.de/luft/immissionsmessungen/messwerte/legende/index.htm\n",
    "\n",
    "Gesetzliche Grenzwerte:\n",
    "\n",
    "http://www.lfu.bayern.de/luft/immissionsmessungen/ueberschreitungen_pm10_so2_no2/index.htm"
   ]
  },
  {
   "cell_type": "markdown",
   "metadata": {},
   "source": [
    "## Auswirkungen auf die Gesundheit "
   ]
  },
  {
   "cell_type": "markdown",
   "metadata": {},
   "source": [
    "* Atemwegsbeschwerden\n",
    "* (chronischer) Husten\n",
    "* Bronchitis\n",
    "* Asthma\n",
    "* erhöhte Empfindlichkeit gegenüber Atemwegsinfektionen\n",
    "* Herz-Kreislauf-Probleme\n",
    "* Beeinträchtigung der Lungenfunktion (vor allem bei Kindern)\n",
    "* erhöhtes Lungenkrebsrisiko\n",
    "* Verkürzung der Lebenserwartung\n",
    "* Auswirkungen auf die Konzentration/ Lernen bei Kindern (Feinstaub)\n",
    "* erhöht möglicherweise das Risiko verschiedener anderer chronischer Erkrankungen (Alzheimer, Diabetes) (Feinstaub)"
   ]
  },
  {
   "cell_type": "markdown",
   "metadata": {},
   "source": [
    "## Automatisches Sammeln von Luftschadstoffinformationen von der Website des bayerischen Landesamts für Umwelt"
   ]
  },
  {
   "cell_type": "markdown",
   "metadata": {},
   "source": [
    "Je nachdem welche Informationen man sucht, kann man diese direkt als Datei herunterladen oder muss sie von der Website scrapen."
   ]
  },
  {
   "cell_type": "markdown",
   "metadata": {},
   "source": [
    "### Herunterladen von Daten aus Dateien"
   ]
  },
  {
   "cell_type": "markdown",
   "metadata": {},
   "source": [
    "Daten direkt aus veröffentlichter CSV-Datei holen und verarbeiten.\n",
    "\n",
    "z.B. Feinstaub Stundenmittelwerte von hier: http://www.lfu.bayern.de/luft/immissionsmessungen/messwerte/index.htm"
   ]
  },
  {
   "cell_type": "code",
   "execution_count": 37,
   "metadata": {
    "collapsed": false
   },
   "outputs": [],
   "source": [
    "import urllib2\n",
    "import csv\n",
    "url = \"http://www.lfu.bayern.de/luft/immissionsmessungen/data/csv/csv_1404_132G.csv\"\n",
    "response = urllib2.urlopen(url)\n",
    "data = []\n",
    "for row in csv.reader(response,delimiter = \";\"):\n",
    "    data.append(row)"
   ]
  },
  {
   "cell_type": "markdown",
   "metadata": {},
   "source": [
    "Liste von Datenpunkten"
   ]
  },
  {
   "cell_type": "code",
   "execution_count": 38,
   "metadata": {
    "collapsed": false
   },
   "outputs": [
    {
     "data": {
      "text/plain": [
       "[['14.01.2017', '01:00', '12'],\n",
       " ['14.01.2017', '02:00', '12'],\n",
       " ['14.01.2017', '03:00', '7'],\n",
       " ['14.01.2017', '04:00', '5'],\n",
       " ['14.01.2017', '05:00', '3'],\n",
       " ['14.01.2017', '06:00', '2'],\n",
       " ['14.01.2017', '07:00', '11'],\n",
       " ['14.01.2017', '08:00', '16'],\n",
       " ['14.01.2017', '09:00', '16'],\n",
       " ['14.01.2017', '10:00', '17'],\n",
       " ['14.01.2017', '11:00', '17'],\n",
       " ['14.01.2017', '12:00', '31'],\n",
       " ['14.01.2017', '13:00', '20'],\n",
       " ['14.01.2017', '14:00', '17'],\n",
       " ['14.01.2017', '15:00', '20'],\n",
       " ['14.01.2017', '16:00', '24'],\n",
       " ['14.01.2017', '17:00', '32'],\n",
       " ['14.01.2017', '18:00', '22'],\n",
       " ['14.01.2017', '19:00', '32'],\n",
       " ['14.01.2017', '20:00', '32'],\n",
       " ['14.01.2017', '21:00', '28'],\n",
       " ['14.01.2017', '22:00', '20'],\n",
       " ['14.01.2017', '23:00', '16'],\n",
       " ['15.01.2017', '00:00', '14'],\n",
       " ['15.01.2017', '01:00', '13'],\n",
       " ['15.01.2017', '02:00', '14'],\n",
       " ['15.01.2017', '03:00', '12'],\n",
       " ['15.01.2017', '04:00', '8'],\n",
       " ['15.01.2017', '05:00', '7'],\n",
       " ['15.01.2017', '06:00', '6'],\n",
       " ['15.01.2017', '07:00', '8'],\n",
       " ['15.01.2017', '08:00', '10'],\n",
       " ['15.01.2017', '09:00', '12'],\n",
       " ['15.01.2017', '10:00', '23'],\n",
       " ['15.01.2017', '11:00', '31'],\n",
       " ['15.01.2017', '12:00', '25'],\n",
       " ['15.01.2017', '13:00', '20'],\n",
       " ['15.01.2017', '14:00', '18'],\n",
       " ['15.01.2017', '15:00', '16'],\n",
       " ['15.01.2017', '16:00', '23'],\n",
       " ['15.01.2017', '17:00', '19'],\n",
       " ['15.01.2017', '18:00', '23'],\n",
       " ['15.01.2017', '19:00', '30'],\n",
       " ['15.01.2017', '20:00', '36'],\n",
       " ['15.01.2017', '21:00', '26'],\n",
       " ['15.01.2017', '22:00', '22'],\n",
       " ['15.01.2017', '23:00', '19'],\n",
       " ['16.01.2017', '00:00', '17'],\n",
       " ['16.01.2017', '01:00', '15'],\n",
       " ['16.01.2017', '02:00', '15'],\n",
       " ['16.01.2017', '03:00', '16'],\n",
       " ['16.01.2017', '04:00', '16'],\n",
       " ['16.01.2017', '05:00', '18'],\n",
       " ['16.01.2017', '06:00', '20'],\n",
       " ['16.01.2017', '07:00', '23'],\n",
       " ['16.01.2017', '08:00', '32'],\n",
       " ['16.01.2017', '09:00', '33'],\n",
       " ['16.01.2017', '10:00', '45'],\n",
       " ['16.01.2017', '11:00', '39'],\n",
       " ['16.01.2017', '12:00', '31'],\n",
       " ['16.01.2017', '13:00', '27'],\n",
       " ['16.01.2017', '14:00', '26'],\n",
       " ['16.01.2017', '15:00', '17'],\n",
       " ['16.01.2017', '16:00', '26'],\n",
       " ['16.01.2017', '17:00', '18'],\n",
       " ['16.01.2017', '18:00', '17'],\n",
       " ['16.01.2017', '19:00', '19'],\n",
       " ['16.01.2017', '20:00', '21'],\n",
       " ['16.01.2017', '21:00', '21'],\n",
       " ['16.01.2017', '22:00', '20'],\n",
       " ['16.01.2017', '23:00', '22'],\n",
       " ['17.01.2017', '00:00', '23'],\n",
       " ['17.01.2017', '01:00', '23'],\n",
       " ['17.01.2017', '02:00', '21'],\n",
       " ['17.01.2017', '03:00', '22'],\n",
       " ['17.01.2017', '04:00', '23'],\n",
       " ['17.01.2017', '05:00', '23'],\n",
       " ['17.01.2017', '06:00', '19'],\n",
       " ['17.01.2017', '07:00', '19'],\n",
       " ['17.01.2017', '08:00', '17'],\n",
       " ['17.01.2017', '09:00', '18'],\n",
       " ['17.01.2017', '10:00', '18'],\n",
       " ['17.01.2017', '11:00', '18'],\n",
       " ['17.01.2017', '12:00', '15'],\n",
       " ['17.01.2017', '13:00', '15'],\n",
       " ['17.01.2017', '14:00', '16'],\n",
       " ['17.01.2017', '15:00', '13'],\n",
       " ['17.01.2017', '16:00', '13'],\n",
       " ['17.01.2017', '17:00', '13'],\n",
       " ['17.01.2017', '18:00', '15'],\n",
       " ['17.01.2017', '19:00', '17'],\n",
       " ['17.01.2017', '20:00', '20'],\n",
       " ['17.01.2017', '21:00', '21'],\n",
       " ['17.01.2017', '22:00', '21'],\n",
       " ['17.01.2017', '23:00', '21'],\n",
       " ['18.01.2017', '00:00', '20'],\n",
       " ['18.01.2017', '01:00', '18'],\n",
       " ['18.01.2017', '02:00', '17'],\n",
       " ['18.01.2017', '03:00', '16'],\n",
       " ['18.01.2017', '04:00', '18'],\n",
       " ['18.01.2017', '05:00', '18'],\n",
       " ['18.01.2017', '06:00', '17'],\n",
       " ['18.01.2017', '07:00', '19'],\n",
       " ['18.01.2017', '08:00', '21'],\n",
       " ['18.01.2017', '09:00', '22'],\n",
       " ['18.01.2017', '10:00', '27'],\n",
       " ['18.01.2017', '11:00', '27'],\n",
       " ['18.01.2017', '12:00', '27'],\n",
       " ['18.01.2017', '13:00', '26'],\n",
       " ['18.01.2017', '14:00', '28'],\n",
       " ['18.01.2017', '15:00', '29'],\n",
       " ['18.01.2017', '16:00', '29'],\n",
       " ['18.01.2017', '17:00', '32'],\n",
       " ['18.01.2017', '18:00', '36'],\n",
       " ['18.01.2017', '19:00', '39'],\n",
       " ['18.01.2017', '20:00', '41'],\n",
       " ['18.01.2017', '21:00', '42'],\n",
       " ['18.01.2017', '22:00', '36'],\n",
       " ['18.01.2017', '23:00', '33'],\n",
       " ['19.01.2017', '00:00', '30'],\n",
       " ['19.01.2017', '01:00', '28'],\n",
       " ['19.01.2017', '02:00', '27'],\n",
       " ['19.01.2017', '03:00', '29'],\n",
       " ['19.01.2017', '04:00', '36'],\n",
       " ['19.01.2017', '05:00', '41'],\n",
       " ['19.01.2017', '06:00', '41'],\n",
       " ['19.01.2017', '07:00', '40'],\n",
       " ['19.01.2017', '08:00', '38'],\n",
       " ['19.01.2017', '09:00', '40'],\n",
       " ['19.01.2017', '10:00', '37'],\n",
       " ['19.01.2017', '11:00', '41'],\n",
       " ['19.01.2017', '12:00', '51'],\n",
       " ['19.01.2017', '13:00', '53'],\n",
       " ['19.01.2017', '14:00', '60'],\n",
       " ['19.01.2017', '15:00', '61'],\n",
       " ['19.01.2017', '16:00', '60'],\n",
       " ['19.01.2017', '17:00', '55'],\n",
       " ['19.01.2017', '18:00', '51']]"
      ]
     },
     "execution_count": 38,
     "metadata": {},
     "output_type": "execute_result"
    }
   ],
   "source": [
    "data"
   ]
  },
  {
   "cell_type": "markdown",
   "metadata": {},
   "source": [
    "Letzter Messwert"
   ]
  },
  {
   "cell_type": "code",
   "execution_count": 7,
   "metadata": {
    "collapsed": false
   },
   "outputs": [
    {
     "data": {
      "text/plain": [
       "['19.01.2017', '13:00', '53']"
      ]
     },
     "execution_count": 7,
     "metadata": {},
     "output_type": "execute_result"
    }
   ],
   "source": [
    "data[-1]"
   ]
  },
  {
   "cell_type": "markdown",
   "metadata": {},
   "source": [
    "(Auf dieser Basis läuft das CfM Projekt \"Feinstaubbot\": https://github.com/codeformunich/feinstaubbot)"
   ]
  },
  {
   "cell_type": "markdown",
   "metadata": {},
   "source": [
    "## *Scrapen* von Informationen, die nicht als Datei herunterladbar sind"
   ]
  },
  {
   "cell_type": "markdown",
   "metadata": {},
   "source": [
    "Jetzt wollen wir Werte, die wir auf einer HTML Seite sehen, sammeln. Dazu gäbe es zwei Optionen:\n",
    "\n",
    "* Die Seite rendern und dann den Text verarbeiten\n",
    "* Die Struktur dahinter (HTML Quellcode) verwenden um die richtigen Informationen zu extrahieren\n",
    "\n",
    "Für die zweite Option gibt es verschiedene Hilfsmittel. Hier verwenden wir Python mit dem lxml Package. Über dieses Package bekommen wir einen HTML *Parser*"
   ]
  },
  {
   "cell_type": "code",
   "execution_count": 39,
   "metadata": {
    "collapsed": true
   },
   "outputs": [],
   "source": [
    "from lxml import etree"
   ]
  },
  {
   "cell_type": "code",
   "execution_count": 40,
   "metadata": {
    "collapsed": false
   },
   "outputs": [],
   "source": [
    "parser = etree.HTMLParser(encoding='utf-8')\n",
    "lueb_url = \"http://inters.bayern.de/luebmw/html/aktmesswerte_lueb.php\"\n",
    "data = etree.parse(lueb_url, parser)"
   ]
  },
  {
   "cell_type": "markdown",
   "metadata": {},
   "source": [
    "Jetzt steht uns der Inhalt der Seite zur Verfügung. Trotzdem brauchen wir eine Methode, die richtigen Teile auszuwählen. Hier hilft uns die XPath Query Sprache (http://archive.oreilly.com/pub/a/perl/excerpts/system-admin-with-perl/ten-minute-xpath-utorial.html). Mit XPath kann man auch in Chrome ein bisschen herumspielen - in der Console über die Funktion $x(\"...\")."
   ]
  },
  {
   "cell_type": "markdown",
   "metadata": {},
   "source": [
    "Hier erstmal ein einfaches Beispiel: Wir möchten den Text, der den Aktualisierungszeitpunkt dieser Webseite (http://inters.bayern.de/luebmw/html/aktmesswerte_lueb.php) angibt, auslesen."
   ]
  },
  {
   "cell_type": "code",
   "execution_count": 41,
   "metadata": {
    "collapsed": false
   },
   "outputs": [
    {
     "name": "stdout",
     "output_type": "stream",
     "text": [
      "Letzter Aktualisierungszeitpunkt: 19.01.2017  18:00 Uhr (MEZ)\n"
     ]
    }
   ],
   "source": [
    "print data.xpath('/html/body/span[3]/b/text()')[0]"
   ]
  },
  {
   "cell_type": "markdown",
   "metadata": {},
   "source": [
    "(Auf Deutsch: nehm alles innerhalb des 'html' Elements, dann 'body' dann das dritte 'span' Element dann das 'b' Element, das da drinnen ist und dann davon den Text). Zum Schluss: XPath gibt immer Listen zurück, obwohl es aus HTML-Sicht nur einen Text geben kann. Also nehm das erste Listen-Element um den eigentlichen Inhalt zu bekommen."
   ]
  },
  {
   "cell_type": "markdown",
   "metadata": {},
   "source": [
    "Jetzt wollen wir die letzten zwei NO2 30-Minuten Werte an der Landshuter Allee extrahieren. Diese Informationen werden nur in einem Mouse-Over über dem Stundenmittelwert der Messwerttabelle dargestellt."
   ]
  },
  {
   "cell_type": "code",
   "execution_count": 42,
   "metadata": {
    "collapsed": false
   },
   "outputs": [
    {
     "data": {
      "text/plain": [
       "<Element a at 0x103fe9440>"
      ]
     },
     "execution_count": 42,
     "metadata": {},
     "output_type": "execute_result"
    }
   ],
   "source": [
    "data.xpath('/html/body/table[1]/tr[12]/td[6]/a')[0]"
   ]
  },
  {
   "cell_type": "markdown",
   "metadata": {},
   "source": [
    "Daher müssen wir die Informationen aus dem Mouse-Over Attribut auslesen. So bekommt man erstmal ein Dictionary mit allen Attributes in einem Tag."
   ]
  },
  {
   "cell_type": "code",
   "execution_count": 21,
   "metadata": {
    "collapsed": false
   },
   "outputs": [
    {
     "data": {
      "text/plain": [
       "{'href': '/luebmw/html/html_1404_NO2.php', 'class': 'MWLev3', 'onmouseout': 'return nd();', 'onmouseover': u\"return overlib('<SPAN CLASS=\\\\'popupt1\\\\'>Der Wert wurde aus zwei Halbstundenmittelwerten berechnet:<BR>12:00 - 12:30 = 53 \\xb5g/m\\xb3<BR><U>12:30 - 13:00 = 53 \\xb5g/m\\xb3</U><BR>12:00 - 13:00 = 53 \\xb5g/m\\xb3</SPAN>',WIDTH,160,TIMEOUT,10000,FGCOLOR,'#FFFFBB',BGCOLOR,'#A0A0A0');\"}"
      ]
     },
     "execution_count": 21,
     "metadata": {},
     "output_type": "execute_result"
    }
   ],
   "source": [
    "data.xpath('/html/body/table[1]/tr[12]/td[6]/a')[0].attrib"
   ]
  },
  {
   "cell_type": "markdown",
   "metadata": {},
   "source": [
    "So bekommen wir den Inhalt des Onmouseover Attributes:"
   ]
  },
  {
   "cell_type": "code",
   "execution_count": 43,
   "metadata": {
    "collapsed": false
   },
   "outputs": [
    {
     "data": {
      "text/plain": [
       "u\"return overlib('<SPAN CLASS=\\\\'popupt1\\\\'>Der Wert wurde aus zwei Halbstundenmittelwerten berechnet:<BR>17:00 - 17:30 = 97 \\xb5g/m\\xb3<BR><U>17:30 - 18:00 = 88 \\xb5g/m\\xb3</U><BR>17:00 - 18:00 = 93 \\xb5g/m\\xb3</SPAN>',WIDTH,160,TIMEOUT,10000,FGCOLOR,'#FFFFBB',BGCOLOR,'#A0A0A0');\""
      ]
     },
     "execution_count": 43,
     "metadata": {},
     "output_type": "execute_result"
    }
   ],
   "source": [
    "mo_content = data.xpath('/html/body/table[1]/tr[12]/td[6]/a')[0].attrib[\"onmouseover\"]\n",
    "mo_content"
   ]
  },
  {
   "cell_type": "markdown",
   "metadata": {},
   "source": [
    "Jetzt müssen wir nur noch geeignete String-Funktionen anwenden, um die gewünschten Informationen (Datum und Messwert) zu extrahieren. Hier als Beispiel der letzte veröffentlichte 30-Minuten-Mittelwert:"
   ]
  },
  {
   "cell_type": "code",
   "execution_count": 44,
   "metadata": {
    "collapsed": false
   },
   "outputs": [
    {
     "data": {
      "text/plain": [
       "[u'17:00 - 17:30 = 97 \\xb5g/m\\xb3', u'<U>17:30 - 18:00 = 88 \\xb5g/m\\xb3</U>']"
      ]
     },
     "execution_count": 44,
     "metadata": {},
     "output_type": "execute_result"
    }
   ],
   "source": [
    "timelist = mo_content.split(\"<BR>\")[1:-1]\n",
    "timelist"
   ]
  },
  {
   "cell_type": "code",
   "execution_count": 27,
   "metadata": {
    "collapsed": false
   },
   "outputs": [
    {
     "data": {
      "text/plain": [
       "u'13:00'"
      ]
     },
     "execution_count": 27,
     "metadata": {},
     "output_type": "execute_result"
    }
   ],
   "source": [
    "timelist[1].replace('<U>',\"\").split(\" \")[2]"
   ]
  },
  {
   "cell_type": "code",
   "execution_count": 29,
   "metadata": {
    "collapsed": false
   },
   "outputs": [
    {
     "data": {
      "text/plain": [
       "53"
      ]
     },
     "execution_count": 29,
     "metadata": {},
     "output_type": "execute_result"
    }
   ],
   "source": [
    "int(timelist[1].split(\" \")[4].replace(\"</U>\", \"\"))"
   ]
  },
  {
   "cell_type": "markdown",
   "metadata": {},
   "source": [
    "## Sylvester: Böller + Inversionswetterlage!"
   ]
  },
  {
   "cell_type": "markdown",
   "metadata": {
    "collapsed": true
   },
   "source": [
    "![title](sylvester.jpg)"
   ]
  }
 ],
 "metadata": {
  "anaconda-cloud": {},
  "kernelspec": {
   "display_name": "Python [default]",
   "language": "python",
   "name": "python2"
  },
  "language_info": {
   "codemirror_mode": {
    "name": "ipython",
    "version": 2
   },
   "file_extension": ".py",
   "mimetype": "text/x-python",
   "name": "python",
   "nbconvert_exporter": "python",
   "pygments_lexer": "ipython2",
   "version": "2.7.13"
  }
 },
 "nbformat": 4,
 "nbformat_minor": 2
}
